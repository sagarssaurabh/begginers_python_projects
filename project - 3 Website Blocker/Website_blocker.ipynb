{
 "cells": [
  {
   "cell_type": "code",
   "execution_count": null,
   "metadata": {},
   "outputs": [],
   "source": [
    "#here we will focus on file manipulation and working with dates and times\n",
    "# also we will learn to run python program as a process in background\n",
    "\n",
    "# The Domain Name System and its associated cache is your Mac's standard way of knowing how to \n",
    "# get to where it's going on the Internet, but there's another file that can be very useful.\n",
    "# It's called the Hosts file,and it can be used to override the default DNS information\n",
    "\n",
    "host_path = \"/private/etc/hosts\"\n",
    "redirect = \"127.0.0.1\"  #this is the ip address redirected when we try to access restricted website\n",
    "website_list = [\"www.youtube.com\",\"www.primevideo.com\"] #this are the websites we want to block\n"
   ]
  }
 ],
 "metadata": {
  "kernelspec": {
   "display_name": "Python 3",
   "language": "python",
   "name": "python3"
  },
  "language_info": {
   "codemirror_mode": {
    "name": "ipython",
    "version": 3
   },
   "file_extension": ".py",
   "mimetype": "text/x-python",
   "name": "python",
   "nbconvert_exporter": "python",
   "pygments_lexer": "ipython3",
   "version": "3.7.4"
  }
 },
 "nbformat": 4,
 "nbformat_minor": 2
}
